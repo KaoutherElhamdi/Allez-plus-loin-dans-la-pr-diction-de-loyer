{
 "cells": [
  {
   "cell_type": "markdown",
   "metadata": {},
   "source": [
    "<hr>\n",
    "<p><font color='crimson'><h1 align=\"center\">Allez plus loin dans la prédiction de loyer</h1></font><a\n",
    "                                                                                                 href=\"https://openclassrooms.com/fr/courses/4452741-decouvrez-les-librairies-python-pour-la-datascience/exercises/3040#/step1\">Lien vers l'énoncé.</a>\n",
    "    \n",
    "<a href=\"https://static.oc-static.com/prod/courses/files/initiez-vous-au-machine-learning/house_data.csv\">Télécharger le dataset.</a></p>"
   ]
  },
  {
   "cell_type": "markdown",
   "metadata": {},
   "source": [
    "<h2><font color='palevioletred'>Notre mission</font></h2>\n",
    "-une séparation en training / testing set\n",
    "\n",
    "-2 propositions d'amélioration du modèle qui obtiennent de meilleures performances que la \"baseline\" (la régression linéaire avec une seule feature)\n",
    "\n",
    "-Une sélection d'un modèle final à partir des performances"
   ]
  },
  {
   "cell_type": "markdown",
   "metadata": {},
   "source": [
    "<h2><font color='palevioletred'>Solution proposée</font></h2>"
   ]
  },
  {
   "cell_type": "code",
   "execution_count": 1,
   "metadata": {},
   "outputs": [],
   "source": [
    "from sklearn.linear_model import LinearRegression\n",
    "from sklearn.model_selection import train_test_split\n",
    "import pandas as pd\n",
    "import matplotlib.pyplot as plt\n",
    "import numpy as np"
   ]
  },
  {
   "cell_type": "code",
   "execution_count": 2,
   "metadata": {},
   "outputs": [
    {
     "data": {
      "text/html": [
       "<div>\n",
       "<style scoped>\n",
       "    .dataframe tbody tr th:only-of-type {\n",
       "        vertical-align: middle;\n",
       "    }\n",
       "\n",
       "    .dataframe tbody tr th {\n",
       "        vertical-align: top;\n",
       "    }\n",
       "\n",
       "    .dataframe thead th {\n",
       "        text-align: right;\n",
       "    }\n",
       "</style>\n",
       "<table border=\"1\" class=\"dataframe\">\n",
       "  <thead>\n",
       "    <tr style=\"text-align: right;\">\n",
       "      <th></th>\n",
       "      <th>price</th>\n",
       "      <th>surface</th>\n",
       "      <th>arrondissement</th>\n",
       "    </tr>\n",
       "  </thead>\n",
       "  <tbody>\n",
       "    <tr>\n",
       "      <th>0</th>\n",
       "      <td>1820</td>\n",
       "      <td>46.1</td>\n",
       "      <td>1.0</td>\n",
       "    </tr>\n",
       "    <tr>\n",
       "      <th>1</th>\n",
       "      <td>1750</td>\n",
       "      <td>41.0</td>\n",
       "      <td>1.0</td>\n",
       "    </tr>\n",
       "    <tr>\n",
       "      <th>2</th>\n",
       "      <td>1900</td>\n",
       "      <td>55.0</td>\n",
       "      <td>1.0</td>\n",
       "    </tr>\n",
       "    <tr>\n",
       "      <th>3</th>\n",
       "      <td>1950</td>\n",
       "      <td>46.0</td>\n",
       "      <td>1.0</td>\n",
       "    </tr>\n",
       "    <tr>\n",
       "      <th>4</th>\n",
       "      <td>1950</td>\n",
       "      <td>49.0</td>\n",
       "      <td>1.0</td>\n",
       "    </tr>\n",
       "    <tr>\n",
       "      <th>5</th>\n",
       "      <td>1960</td>\n",
       "      <td>67.0</td>\n",
       "      <td>1.0</td>\n",
       "    </tr>\n",
       "    <tr>\n",
       "      <th>6</th>\n",
       "      <td>2000</td>\n",
       "      <td>35.0</td>\n",
       "      <td>1.0</td>\n",
       "    </tr>\n",
       "    <tr>\n",
       "      <th>7</th>\n",
       "      <td>1900</td>\n",
       "      <td>90.6</td>\n",
       "      <td>1.0</td>\n",
       "    </tr>\n",
       "    <tr>\n",
       "      <th>8</th>\n",
       "      <td>2050</td>\n",
       "      <td>60.0</td>\n",
       "      <td>1.0</td>\n",
       "    </tr>\n",
       "    <tr>\n",
       "      <th>9</th>\n",
       "      <td>2100</td>\n",
       "      <td>47.0</td>\n",
       "      <td>1.0</td>\n",
       "    </tr>\n",
       "  </tbody>\n",
       "</table>\n",
       "</div>"
      ],
      "text/plain": [
       "   price  surface  arrondissement\n",
       "0   1820     46.1             1.0\n",
       "1   1750     41.0             1.0\n",
       "2   1900     55.0             1.0\n",
       "3   1950     46.0             1.0\n",
       "4   1950     49.0             1.0\n",
       "5   1960     67.0             1.0\n",
       "6   2000     35.0             1.0\n",
       "7   1900     90.6             1.0\n",
       "8   2050     60.0             1.0\n",
       "9   2100     47.0             1.0"
      ]
     },
     "execution_count": 2,
     "metadata": {},
     "output_type": "execute_result"
    }
   ],
   "source": [
    "data=pd.read_csv(\"C:/Users/ASUS/Desktop/house_data.csv\")\n",
    "data.head(10)"
   ]
  },
  {
   "cell_type": "code",
   "execution_count": 3,
   "metadata": {},
   "outputs": [
    {
     "name": "stdout",
     "output_type": "stream",
     "text": [
      "<class 'pandas.core.frame.DataFrame'>\n",
      "RangeIndex: 827 entries, 0 to 826\n",
      "Data columns (total 3 columns):\n",
      "price             827 non-null int64\n",
      "surface           822 non-null float64\n",
      "arrondissement    822 non-null float64\n",
      "dtypes: float64(2), int64(1)\n",
      "memory usage: 19.5 KB\n"
     ]
    }
   ],
   "source": [
    "data.info()"
   ]
  },
  {
   "cell_type": "code",
   "execution_count": 4,
   "metadata": {},
   "outputs": [
    {
     "data": {
      "text/plain": [
       "price             0\n",
       "surface           5\n",
       "arrondissement    5\n",
       "dtype: int64"
      ]
     },
     "execution_count": 4,
     "metadata": {},
     "output_type": "execute_result"
    }
   ],
   "source": [
    "#np.where(np.isnan(data))\n",
    "data.isnull().sum()"
   ]
  },
  {
   "cell_type": "markdown",
   "metadata": {},
   "source": [
    "On voit qu'il existent des Nans dans notre dataset. On va ainsi supprimer tous les lignes ayant des données manquantes."
   ]
  },
  {
   "cell_type": "code",
   "execution_count": 5,
   "metadata": {},
   "outputs": [
    {
     "data": {
      "text/plain": [
       "price             0\n",
       "surface           0\n",
       "arrondissement    0\n",
       "dtype: int64"
      ]
     },
     "execution_count": 5,
     "metadata": {},
     "output_type": "execute_result"
    }
   ],
   "source": [
    "data=data.dropna()\n",
    "np.where(np.isnan(data))\n",
    "data.isnull().sum()"
   ]
  },
  {
   "cell_type": "markdown",
   "metadata": {},
   "source": [
    "On ajoute ici le codage de l'arrondissement gràce au méthode : One-hot encoding"
   ]
  },
  {
   "cell_type": "code",
   "execution_count": 6,
   "metadata": {},
   "outputs": [
    {
     "data": {
      "text/html": [
       "<div>\n",
       "<style scoped>\n",
       "    .dataframe tbody tr th:only-of-type {\n",
       "        vertical-align: middle;\n",
       "    }\n",
       "\n",
       "    .dataframe tbody tr th {\n",
       "        vertical-align: top;\n",
       "    }\n",
       "\n",
       "    .dataframe thead th {\n",
       "        text-align: right;\n",
       "    }\n",
       "</style>\n",
       "<table border=\"1\" class=\"dataframe\">\n",
       "  <thead>\n",
       "    <tr style=\"text-align: right;\">\n",
       "      <th></th>\n",
       "      <th>price</th>\n",
       "      <th>surface</th>\n",
       "      <th>arrondissement</th>\n",
       "      <th>1.0</th>\n",
       "      <th>2.0</th>\n",
       "      <th>3.0</th>\n",
       "      <th>4.0</th>\n",
       "      <th>10.0</th>\n",
       "    </tr>\n",
       "  </thead>\n",
       "  <tbody>\n",
       "    <tr>\n",
       "      <th>0</th>\n",
       "      <td>1820</td>\n",
       "      <td>46.1</td>\n",
       "      <td>1.0</td>\n",
       "      <td>1</td>\n",
       "      <td>0</td>\n",
       "      <td>0</td>\n",
       "      <td>0</td>\n",
       "      <td>0</td>\n",
       "    </tr>\n",
       "    <tr>\n",
       "      <th>1</th>\n",
       "      <td>1750</td>\n",
       "      <td>41.0</td>\n",
       "      <td>1.0</td>\n",
       "      <td>1</td>\n",
       "      <td>0</td>\n",
       "      <td>0</td>\n",
       "      <td>0</td>\n",
       "      <td>0</td>\n",
       "    </tr>\n",
       "    <tr>\n",
       "      <th>2</th>\n",
       "      <td>1900</td>\n",
       "      <td>55.0</td>\n",
       "      <td>1.0</td>\n",
       "      <td>1</td>\n",
       "      <td>0</td>\n",
       "      <td>0</td>\n",
       "      <td>0</td>\n",
       "      <td>0</td>\n",
       "    </tr>\n",
       "    <tr>\n",
       "      <th>3</th>\n",
       "      <td>1950</td>\n",
       "      <td>46.0</td>\n",
       "      <td>1.0</td>\n",
       "      <td>1</td>\n",
       "      <td>0</td>\n",
       "      <td>0</td>\n",
       "      <td>0</td>\n",
       "      <td>0</td>\n",
       "    </tr>\n",
       "    <tr>\n",
       "      <th>4</th>\n",
       "      <td>1950</td>\n",
       "      <td>49.0</td>\n",
       "      <td>1.0</td>\n",
       "      <td>1</td>\n",
       "      <td>0</td>\n",
       "      <td>0</td>\n",
       "      <td>0</td>\n",
       "      <td>0</td>\n",
       "    </tr>\n",
       "  </tbody>\n",
       "</table>\n",
       "</div>"
      ],
      "text/plain": [
       "   price  surface  arrondissement  1.0  2.0  3.0  4.0  10.0\n",
       "0   1820     46.1             1.0    1    0    0    0     0\n",
       "1   1750     41.0             1.0    1    0    0    0     0\n",
       "2   1900     55.0             1.0    1    0    0    0     0\n",
       "3   1950     46.0             1.0    1    0    0    0     0\n",
       "4   1950     49.0             1.0    1    0    0    0     0"
      ]
     },
     "execution_count": 6,
     "metadata": {},
     "output_type": "execute_result"
    }
   ],
   "source": [
    "data.arrondissement.unique()\n",
    "c1=[1 if i==1.0 else 0 for i in data.arrondissement]\n",
    "c2=[1 if i==2.0 else 0 for i in data.arrondissement]\n",
    "c3=[1 if i==3.0 else 0 for i in data.arrondissement]\n",
    "c4=[1 if i==4.0 else 0 for i in data.arrondissement]\n",
    "c10=[1 if i==10.0 else 0 for i in data.arrondissement]\n",
    "data[\"1.0\"]=c1\n",
    "data[\"2.0\"]=c2\n",
    "data[\"3.0\"]=c3\n",
    "data[\"4.0\"]=c4\n",
    "data[\"10.0\"]=c10\n",
    "data.head()\n",
    "\n",
    "#NB : Cette étape peut se faire plus facilement gràce à get_dummies :\n",
    "#arrondissement = pd.get_dummies(data=data['arrondissement'])\n",
    "#data = pd.concat([data, arrondissement], axis=1)"
   ]
  },
  {
   "cell_type": "markdown",
   "metadata": {},
   "source": [
    "<h3><font color='indigo'>Séparation en training / testing set</font></h3>"
   ]
  },
  {
   "cell_type": "code",
   "execution_count": 7,
   "metadata": {},
   "outputs": [],
   "source": [
    "X=data.iloc[:,1:]\n",
    "y=data.price\n",
    "#Séparation en training / testing set\n",
    "X_train, X_test, y_train, y_test = train_test_split(X, y)"
   ]
  },
  {
   "cell_type": "markdown",
   "metadata": {},
   "source": [
    "<h3><font color='indigo'>Première Essaie</font></h3>"
   ]
  },
  {
   "cell_type": "code",
   "execution_count": 8,
   "metadata": {},
   "outputs": [],
   "source": [
    "X1_train=X_train[['surface']]\n",
    "X1_test=X_test[['surface']]"
   ]
  },
  {
   "cell_type": "code",
   "execution_count": 9,
   "metadata": {},
   "outputs": [
    {
     "name": "stdout",
     "output_type": "stream",
     "text": [
      "L'erreur   :    43.65%\n"
     ]
    }
   ],
   "source": [
    "# Regression linéaire\n",
    "Linreg1=LinearRegression().fit(X1_train,y_train)\n",
    "erreur1=1-Linreg1.score(X1_test,y_test)\n",
    "print(\"L'erreur   :   \", f'{100*erreur1:.2f}%')"
   ]
  },
  {
   "cell_type": "markdown",
   "metadata": {},
   "source": [
    "<h3><font color='indigo'>Première Amélioration : Ajouter de la caractéristique \"Arrondissement\"</font></h3>"
   ]
  },
  {
   "cell_type": "code",
   "execution_count": 10,
   "metadata": {},
   "outputs": [],
   "source": [
    "X2_train=X_train[['surface','arrondissement']]\n",
    "X2_test=X_test[['surface','arrondissement']]"
   ]
  },
  {
   "cell_type": "code",
   "execution_count": 11,
   "metadata": {},
   "outputs": [
    {
     "name": "stdout",
     "output_type": "stream",
     "text": [
      "L'erreur   :    42.93%\n"
     ]
    }
   ],
   "source": [
    "Linreg2=LinearRegression().fit(X2_train,y_train)\n",
    "erreur2=1-Linreg2.score(X2_test,y_test)\n",
    "print(\"L'erreur   :   \",  f'{100*erreur2:.2f}%')"
   ]
  },
  {
   "cell_type": "markdown",
   "metadata": {},
   "source": [
    "<h3><font color='indigo'>Deuxième Amélioration : Codage du l'arrondissement à l'aide du \"One-hot encoding\"</font></h3>"
   ]
  },
  {
   "cell_type": "code",
   "execution_count": 12,
   "metadata": {},
   "outputs": [],
   "source": [
    "X3_train=X_train[['surface','1.0','2.0','3.0','4.0','10.0']]\n",
    "X3_test=X_test[['surface','1.0','2.0','3.0','4.0','10.0']]"
   ]
  },
  {
   "cell_type": "code",
   "execution_count": 13,
   "metadata": {},
   "outputs": [
    {
     "name": "stdout",
     "output_type": "stream",
     "text": [
      "L'erreur   :    42.74%\n"
     ]
    }
   ],
   "source": [
    "Linreg3=LinearRegression().fit(X3_train,y_train)\n",
    "erreur3=1-Linreg3.score(X3_test,y_test)\n",
    "print(\"L'erreur   :   \",  f'{100*erreur3:.2f}%')"
   ]
  },
  {
   "cell_type": "markdown",
   "metadata": {},
   "source": [
    "<h3><font color='indigo'>Discussion des résultats et Conclusion</font></h3>"
   ]
  },
  {
   "cell_type": "code",
   "execution_count": 14,
   "metadata": {},
   "outputs": [
    {
     "name": "stdout",
     "output_type": "stream",
     "text": [
      "L'erreur est:\n",
      "-de 43.65% avec une seule feature (surface)\n",
      "-de 42.93% en ajoutant l'arrondissement\n",
      "-de 42.74% en encodant l'arrondissement\n",
      "\n",
      "Ainsie le modéle choisie est le troisiéme modéle\n"
     ]
    }
   ],
   "source": [
    "print(f'L\\'erreur est:\\n\\\n",
    "-de {100*erreur1:.2f}% avec une seule feature (surface)\\n\\\n",
    "-de {100*erreur2:.2f}% en ajoutant l\\'arrondissement\\n\\\n",
    "-de {100*erreur3:.2f}% en encodant l\\'arrondissement\\n')\n",
    "\n",
    "err=[erreur1,erreur2,erreur3]\n",
    "mod=[\"premier modéle\",\"deuxiéme modéle\",\"troisiéme modéle\"]\n",
    "print(\"Ainsie le modéle choisie est le\" , mod[err.index(min(err))])"
   ]
  },
  {
   "cell_type": "code",
   "execution_count": null,
   "metadata": {},
   "outputs": [],
   "source": []
  }
 ],
 "metadata": {
  "kernelspec": {
   "display_name": "Python 3",
   "language": "python",
   "name": "python3"
  },
  "language_info": {
   "codemirror_mode": {
    "name": "ipython",
    "version": 3
   },
   "file_extension": ".py",
   "mimetype": "text/x-python",
   "name": "python",
   "nbconvert_exporter": "python",
   "pygments_lexer": "ipython3",
   "version": "3.7.3"
  }
 },
 "nbformat": 4,
 "nbformat_minor": 2
}
